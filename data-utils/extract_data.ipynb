{
 "cells": [
  {
   "cell_type": "markdown",
   "metadata": {},
   "source": [
    "## Load and Filter Data\n",
    "\n",
    "Load movie data from the supplied json files. Filter out duplicates and movies with missing information."
   ]
  },
  {
   "cell_type": "code",
   "execution_count": 1,
   "metadata": {
    "collapsed": false
   },
   "outputs": [],
   "source": [
    "import json"
   ]
  },
  {
   "cell_type": "code",
   "execution_count": 2,
   "metadata": {
    "collapsed": false
   },
   "outputs": [
    {
     "data": {
      "text/plain": [
       "213"
      ]
     },
     "execution_count": 2,
     "metadata": {},
     "output_type": "execute_result"
    }
   ],
   "source": [
    "movie_data = []\n",
    "\n",
    "with open('download/movies.json') as f:\n",
    "    movie_data.extend(json.load(f)['movies'])\n",
    "with open('download/more_movies.json') as f:\n",
    "    movie_data.extend(json.load(f)['movies'])\n",
    "    \n",
    "len(movie_data)"
   ]
  },
  {
   "cell_type": "code",
   "execution_count": 3,
   "metadata": {
    "collapsed": false
   },
   "outputs": [
    {
     "data": {
      "text/plain": [
       "['abridged_cast',\n",
       " 'alternate_ids',\n",
       " 'id',\n",
       " 'links',\n",
       " 'mpaa_rating',\n",
       " 'posters',\n",
       " 'ratings',\n",
       " 'release_dates',\n",
       " 'runtime',\n",
       " 'synopsis',\n",
       " 'title',\n",
       " 'year']"
      ]
     },
     "execution_count": 3,
     "metadata": {},
     "output_type": "execute_result"
    }
   ],
   "source": [
    "sorted(movie_data[1].keys())"
   ]
  },
  {
   "cell_type": "code",
   "execution_count": 4,
   "metadata": {
    "collapsed": false
   },
   "outputs": [],
   "source": [
    "requiredFields = set([\n",
    "    'id',\n",
    "    'links',\n",
    "    'mpaa_rating',\n",
    "    'posters',\n",
    "    'ratings',\n",
    "    'runtime',\n",
    "    'synopsis',\n",
    "    'title',\n",
    "    'year'\n",
    "])"
   ]
  },
  {
   "cell_type": "markdown",
   "metadata": {},
   "source": [
    "Filter out movies that don't have enough data"
   ]
  },
  {
   "cell_type": "code",
   "execution_count": 5,
   "metadata": {
    "collapsed": false
   },
   "outputs": [
    {
     "data": {
      "text/plain": [
       "192"
      ]
     },
     "execution_count": 5,
     "metadata": {},
     "output_type": "execute_result"
    }
   ],
   "source": [
    "def allFilled(movie):\n",
    "    for k in movie:\n",
    "        if not movie.get(k) and k in requiredFields:\n",
    "            return False\n",
    "    return True\n",
    "\n",
    "filtered_data = [m for m in movie_data if allFilled(m)]\n",
    "len(filtered_data)"
   ]
  },
  {
   "cell_type": "code",
   "execution_count": 6,
   "metadata": {
    "collapsed": false
   },
   "outputs": [
    {
     "name": "stdout",
     "output_type": "stream",
     "text": [
      "uniques:\t 78\n",
      "duplicates:\t 46\n"
     ]
    }
   ],
   "source": [
    "ids = set()\n",
    "dupes = set()\n",
    "\n",
    "for m in filtered_data:\n",
    "    if m['id'] in ids:\n",
    "        dupes.add(m['id'])\n",
    "    ids.add(m['id'])\n",
    "    \n",
    "print(\"uniques:\\t\", len(ids))\n",
    "print(\"duplicates:\\t\", len(dupes))"
   ]
  },
  {
   "cell_type": "code",
   "execution_count": 7,
   "metadata": {
    "collapsed": false
   },
   "outputs": [],
   "source": [
    "movie_dict = {m['id']: m for m in filtered_data}"
   ]
  },
  {
   "cell_type": "markdown",
   "metadata": {},
   "source": [
    "## Download Hi-Res Posters\n",
    "\n",
    "Many of the rottentomatoes movies don't have high-resolution data, but we can find it.\n",
    "\n",
    "As a last resort, downloads photos from [TMDB](https://www.themoviedb.org/documentation/api). Set your API key as environment variable `TMDB_KEY`."
   ]
  },
  {
   "cell_type": "code",
   "execution_count": 8,
   "metadata": {
    "collapsed": true
   },
   "outputs": [],
   "source": [
    "import os\n",
    "import re\n",
    "import requests\n",
    "import time"
   ]
  },
  {
   "cell_type": "code",
   "execution_count": 14,
   "metadata": {
    "collapsed": true
   },
   "outputs": [],
   "source": [
    "def posterPath(rt_id):\n",
    "    return os.path.join('..', 'starter', 'static', 'posters', rt_id + '.jpg')"
   ]
  },
  {
   "cell_type": "code",
   "execution_count": 15,
   "metadata": {
    "collapsed": false
   },
   "outputs": [],
   "source": [
    "def getURLFromTMDB(imdb_id):\n",
    "    KEY = os.environ['TMDB_KEY']\n",
    "    IMG_PATTERN = 'http://api.themoviedb.org/3/movie/{imdbid}/images?api_key={key}' \n",
    "    r = requests.get(IMG_PATTERN.format(imdbid=imdb_id, key=KEY))\n",
    "    api_response = r.json()\n",
    "    print (api_response)\n",
    "    if not api_response.get('posters'):\n",
    "        return None\n",
    "    for p in api_response['posters']:\n",
    "        if p['iso_639_1'] == 'en':\n",
    "            return 'http://image.tmdb.org/t/p/original' + p['file_path']\n",
    "    return None\n",
    "\n",
    "\n",
    "def getPosterURL(movie):\n",
    "    link = m['posters']['original']\n",
    "    # links with 'resizing' in them only return thumbnails\n",
    "    if 'resizing' in link:\n",
    "        # we can find the flixter link\n",
    "        if 'movie' in link:\n",
    "            print(\"> extracted: {} ({})\".format(movie['title'], movie['id']))\n",
    "            path = re.match('^.*?(/movie.*)$', link).group(1)\n",
    "            return \"http://content9.flixster.com\" + path\n",
    "        elif m.get('alternate_ids') and m['alternate_ids'].get('imdb'):\n",
    "            print(\"> tmdb: {} ({})\".format(movie['title'], movie['id']))\n",
    "            imdb_id = m['alternate_ids']['imdb']\n",
    "            return None\n",
    "        else:\n",
    "            return None\n",
    "    print(\"> direct: {} ({})\".format(movie['title'], movie['id']))\n",
    "    return link"
   ]
  },
  {
   "cell_type": "code",
   "execution_count": 16,
   "metadata": {
    "collapsed": false,
    "scrolled": false
   },
   "outputs": [
    {
     "name": "stdout",
     "output_type": "stream",
     "text": [
      "../starter/static/posters/771418294.jpg\n",
      "> tmdb: Dough (771418294)\n",
      "../starter/static/posters/771306118.jpg\n",
      "> tmdb: Inside Out (771306118)\n",
      "../starter/static/posters/290370817.jpg\n",
      "> tmdb: Dad's Army (290370817)\n",
      "../starter/static/posters/771416410.jpg\n",
      "> tmdb: Risen (771416410)\n",
      "../starter/static/posters/771422075.jpg\n",
      "> direct: The Iron Giant: Signature Edition (771422075)\n",
      "../starter/static/posters/771385342.jpg\n",
      "> direct: Jungle Shuffle (771385342)\n",
      "../starter/static/posters/771420263.jpg\n",
      "> tmdb: Rams (Hrutar) (771420263)\n",
      "../starter/static/posters/771321699.jpg\n",
      "> tmdb: Star Wars: Episode VII - The Force Awakens (771321699)\n",
      "../starter/static/posters/771355933.jpg\n",
      "> direct: The Lunchbox (771355933)\n",
      "../starter/static/posters/771374538.jpg\n",
      "> tmdb: Race (771374538)\n",
      "../starter/static/posters/771413218.jpg\n",
      "../starter/static/posters/771428953.jpg\n"
     ]
    }
   ],
   "source": [
    "notFound = []\n",
    "\n",
    "for m in movie_dict.values():\n",
    "    if os.path.exists(posterPath(m['id'])):\n",
    "        continue\n",
    "    print (posterPath(m['id']))\n",
    "    url = getPosterURL(m)    \n",
    "    if url:\n",
    "        response = requests.get(url)\n",
    "        if response.status_code == 200:\n",
    "            with open(posterPath(m['id']), 'wb') as f:\n",
    "                f.write(response.content)\n",
    "        elif response.status_code == 404:\n",
    "            print(\">> Not found:\", m['id'], url)\n",
    "            notFound.append(m['id'])\n",
    "        else:\n",
    "            print(\">> Error:\", response.status_code, m['id'], url)\n",
    "        time.sleep(0.1)  # respect our API limits!"
   ]
  },
  {
   "cell_type": "markdown",
   "metadata": {},
   "source": [
    "Filter out movies with no poster:"
   ]
  },
  {
   "cell_type": "code",
   "execution_count": 18,
   "metadata": {
    "collapsed": false
   },
   "outputs": [
    {
     "name": "stdout",
     "output_type": "stream",
     "text": [
      "Before: 69\n",
      "After: 66\n"
     ]
    }
   ],
   "source": [
    "print(\"Before:\", len(movie_dict))\n",
    "for rt_id in set(movie_dict.keys()):\n",
    "    if not os.path.exists(posterPath(rt_id)):\n",
    "        del movie_dict[rt_id]\n",
    "print(\"After:\", len(movie_dict))"
   ]
  },
  {
   "cell_type": "markdown",
   "metadata": {},
   "source": [
    "## Generate Thumbnail Sprites"
   ]
  },
  {
   "cell_type": "code",
   "execution_count": 26,
   "metadata": {
    "collapsed": true
   },
   "outputs": [],
   "source": [
    "from PIL import Image\n",
    "import thumbnails"
   ]
  },
  {
   "cell_type": "code",
   "execution_count": 27,
   "metadata": {
    "collapsed": true
   },
   "outputs": [],
   "source": [
    "THUMB_SIZE = (200, 300)\n",
    "MAX_SPRITE_SIZE = 5\n",
    "SPRITE_SIZE = (THUMB_SIZE[0] * MAX_SPRITE_SIZE, THUMB_SIZE[1] * MAX_SPRITE_SIZE)"
   ]
  },
  {
   "cell_type": "code",
   "execution_count": 29,
   "metadata": {
    "collapsed": false
   },
   "outputs": [],
   "source": [
    "thumb_indices = {}  # Each index is a 3-tuple: file_number, row, column\n",
    "sprites = []\n",
    "\n",
    "for i, movie in enumerate(movie_dict.values()):\n",
    "    f = int(i / MAX_SPRITE_SIZE ** 2)\n",
    "    j = int(i % MAX_SPRITE_SIZE ** 2)\n",
    "    row = int(j / MAX_SPRITE_SIZE)\n",
    "    col = int(j % MAX_SPRITE_SIZE)\n",
    "    \n",
    "    if len(sprites) == f:\n",
    "        sprites.append(Image.new(mode='RGB', size=SPRITE_SIZE))\n",
    "    \n",
    "    path = os.path.abspath(posterPath(movie['id']))\n",
    "    thumb = thumbnails.get_thumbnail(path, \"{}x{}\".format(*THUMB_SIZE), crop='center')\n",
    "    sprites[-1].paste(thumb.image, (col * THUMB_SIZE[0], row * THUMB_SIZE[1]))\n",
    "    \n",
    "    thumb_indices[movie['id']] = (f, row, col)"
   ]
  },
  {
   "cell_type": "code",
   "execution_count": 31,
   "metadata": {
    "collapsed": false
   },
   "outputs": [],
   "source": [
    "SPRITE_DIR = os.path.join('..', 'starter', 'static', 'thumb_sprites')\n",
    "\n",
    "for i, s in enumerate(sprites):\n",
    "    s.save(os.path.join(SPRITE_DIR, \"sprite-{}.jpg\".format(i)))\n",
    "    \n",
    "spriteInfo = {\n",
    "    'thumb_size': THUMB_SIZE,\n",
    "    'thumb_indices': thumb_indices,\n",
    "    'n_sheets': len(sprites),\n",
    "    'sheet_size': MAX_SPRITE_SIZE\n",
    "}\n",
    "\n",
    "with open(os.path.join('..', 'starter', 'templates', \"sprites.json\"), 'w') as f:\n",
    "    json.dump(spriteInfo, f)"
   ]
  },
  {
   "cell_type": "markdown",
   "metadata": {
    "collapsed": true
   },
   "source": [
    "## Generate Django Data Fixture"
   ]
  },
  {
   "cell_type": "code",
   "execution_count": 32,
   "metadata": {
    "collapsed": true
   },
   "outputs": [],
   "source": [
    "def generateFixture(movie):\n",
    "    return {\n",
    "        'model': 'starter.Movie',\n",
    "        'pk': movie['id'],\n",
    "        'fields': {\n",
    "            'rt_link': movie['links'].get('alternate'),\n",
    "            'runtime': movie.get('runtime'),\n",
    "            'audience_score': movie['ratings'].get('audience_score'),\n",
    "            'critics_score': movie['ratings'].get('critics_score'),\n",
    "            'title': movie.get('title'),\n",
    "            'year': movie.get('year'),\n",
    "            'synopsis': movie.get('synopsis'),\n",
    "            'mpaa_rating': movie.get('mpaa_rating'),\n",
    "            'imdb_id': movie['alternate_ids'].get('imdb') if movie.get('alternate_ids') else '',\n",
    "            'actors': json.dumps([member['name'] for member in movie.get('abridged_cast')]),\n",
    "            'audience_rating': movie['ratings'].get('audience_rating', ''),\n",
    "            'critics_rating': movie['ratings'].get('critics_rating', ''),\n",
    "        }\n",
    "    }"
   ]
  },
  {
   "cell_type": "code",
   "execution_count": 34,
   "metadata": {
    "collapsed": false
   },
   "outputs": [],
   "source": [
    "fixtures = [generateFixture(m) for m in movie_dict.values()]\n",
    "\n",
    "with open(os.path.join('..', 'starter', 'fixtures', 'movie_fixture.json'), 'w') as f:\n",
    "    json.dump(fixtures, f, indent=2)"
   ]
  },
  {
   "cell_type": "code",
   "execution_count": null,
   "metadata": {
    "collapsed": true
   },
   "outputs": [],
   "source": []
  }
 ],
 "metadata": {
  "kernelspec": {
   "display_name": "Python 3",
   "language": "python",
   "name": "python3"
  },
  "language_info": {
   "codemirror_mode": {
    "name": "ipython",
    "version": 3
   },
   "file_extension": ".py",
   "mimetype": "text/x-python",
   "name": "python",
   "nbconvert_exporter": "python",
   "pygments_lexer": "ipython3",
   "version": "3.5.1"
  }
 },
 "nbformat": 4,
 "nbformat_minor": 0
}
