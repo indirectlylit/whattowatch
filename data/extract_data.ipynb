{
 "cells": [
  {
   "cell_type": "markdown",
   "metadata": {},
   "source": [
    "## Load and Filter Data\n",
    "\n",
    "Load movie data from the supplied json files. Filter out duplicates and movies with missing information."
   ]
  },
  {
   "cell_type": "code",
   "execution_count": 371,
   "metadata": {
    "collapsed": false
   },
   "outputs": [],
   "source": [
    "import json"
   ]
  },
  {
   "cell_type": "code",
   "execution_count": 372,
   "metadata": {
    "collapsed": false
   },
   "outputs": [
    {
     "data": {
      "text/plain": [
       "213"
      ]
     },
     "execution_count": 372,
     "metadata": {},
     "output_type": "execute_result"
    }
   ],
   "source": [
    "movie_data = []\n",
    "\n",
    "with open('download/movies.json') as f:\n",
    "    movie_data.extend(json.load(f)['movies'])\n",
    "with open('download/more_movies.json') as f:\n",
    "    movie_data.extend(json.load(f)['movies'])\n",
    "    \n",
    "len(movie_data)"
   ]
  },
  {
   "cell_type": "code",
   "execution_count": 373,
   "metadata": {
    "collapsed": false
   },
   "outputs": [
    {
     "data": {
      "text/plain": [
       "['abridged_cast',\n",
       " 'alternate_ids',\n",
       " 'id',\n",
       " 'links',\n",
       " 'mpaa_rating',\n",
       " 'posters',\n",
       " 'ratings',\n",
       " 'release_dates',\n",
       " 'runtime',\n",
       " 'synopsis',\n",
       " 'title',\n",
       " 'year']"
      ]
     },
     "execution_count": 373,
     "metadata": {},
     "output_type": "execute_result"
    }
   ],
   "source": [
    "sorted(movie_data[1].keys())"
   ]
  },
  {
   "cell_type": "code",
   "execution_count": 374,
   "metadata": {
    "collapsed": false
   },
   "outputs": [],
   "source": [
    "requiredFields = set([\n",
    "    'id',\n",
    "    'links',\n",
    "    'mpaa_rating',\n",
    "    'posters',\n",
    "    'ratings',\n",
    "    'runtime',\n",
    "    'synopsis',\n",
    "    'title',\n",
    "    'year'\n",
    "])"
   ]
  },
  {
   "cell_type": "markdown",
   "metadata": {},
   "source": [
    "Filter out movies that don't have enough data"
   ]
  },
  {
   "cell_type": "code",
   "execution_count": 375,
   "metadata": {
    "collapsed": false
   },
   "outputs": [
    {
     "data": {
      "text/plain": [
       "192"
      ]
     },
     "execution_count": 375,
     "metadata": {},
     "output_type": "execute_result"
    }
   ],
   "source": [
    "def allFilled(movie):\n",
    "    for k in movie:\n",
    "        if not movie.get(k) and k in requiredFields:\n",
    "            return False\n",
    "    return True\n",
    "\n",
    "filtered_data = [m for m in movie_data if allFilled(m)]\n",
    "len(filtered_data)"
   ]
  },
  {
   "cell_type": "code",
   "execution_count": 376,
   "metadata": {
    "collapsed": false
   },
   "outputs": [
    {
     "name": "stdout",
     "output_type": "stream",
     "text": [
      "uniques:\t 78\n",
      "duplicates:\t 46\n"
     ]
    }
   ],
   "source": [
    "ids = set()\n",
    "dupes = set()\n",
    "\n",
    "for m in filtered_data:\n",
    "    if m['id'] in ids:\n",
    "        dupes.add(m['id'])\n",
    "    ids.add(m['id'])\n",
    "    \n",
    "print(\"uniques:\\t\", len(ids))\n",
    "print(\"duplicates:\\t\", len(dupes))"
   ]
  },
  {
   "cell_type": "code",
   "execution_count": 377,
   "metadata": {
    "collapsed": false
   },
   "outputs": [],
   "source": [
    "movie_dict = {m['id']: m for m in filtered_data}"
   ]
  },
  {
   "cell_type": "markdown",
   "metadata": {},
   "source": [
    "## Download Hi-Res Posters\n",
    "\n",
    "Many of the rottentomatoes movies don't have high-resolution data, but we can find it.\n",
    "\n",
    "As a last resort, downloads photos from [TMDB](https://www.themoviedb.org/documentation/api). Set your API key as environment variable `TMDB_KEY`."
   ]
  },
  {
   "cell_type": "code",
   "execution_count": 283,
   "metadata": {
    "collapsed": true
   },
   "outputs": [],
   "source": [
    "import os\n",
    "import re\n",
    "import requests\n",
    "import time"
   ]
  },
  {
   "cell_type": "code",
   "execution_count": 284,
   "metadata": {
    "collapsed": true
   },
   "outputs": [],
   "source": [
    "def posterPath(rt_id):\n",
    "    return os.path.join('download', 'posters', rt_id + '.jpg')"
   ]
  },
  {
   "cell_type": "code",
   "execution_count": 378,
   "metadata": {
    "collapsed": false
   },
   "outputs": [],
   "source": [
    "def getURLFromTMDB(imdb_id):\n",
    "    KEY = os.environ['TMDB_KEY']\n",
    "    IMG_PATTERN = 'http://api.themoviedb.org/3/movie/{imdbid}/images?api_key={key}' \n",
    "    r = requests.get(IMG_PATTERN.format(imdbid=imdb_id, key=KEY))\n",
    "    api_response = r.json()\n",
    "    print (api_response)\n",
    "    if not api_response.get('posters'):\n",
    "        return None\n",
    "    for p in api_response['posters']:\n",
    "        if p['iso_639_1'] == 'en':\n",
    "            return 'http://image.tmdb.org/t/p/original' + p['file_path']\n",
    "    return None\n",
    "\n",
    "\n",
    "def getPosterURL(movie):\n",
    "    link = m['posters']['original']\n",
    "    # links with 'resizing' in them only return thumbnails\n",
    "    if 'resizing' in link:\n",
    "        # we can find the flixter link\n",
    "        if 'movie' in link:\n",
    "            print(\"> extracted: {} ({})\".format(movie['title'], movie['id']))\n",
    "            path = re.match('^.*?(/movie.*)$', link).group(1)\n",
    "            return \"http://content9.flixster.com\" + path\n",
    "        elif m.get('alternate_ids') and m['alternate_ids'].get('imdb'):\n",
    "            print(\"> tmdb: {} ({})\".format(movie['title'], movie['id']))\n",
    "            imdb_id = m['alternate_ids']['imdb']\n",
    "            return getURLFromTMDB(imdb_id)\n",
    "        else:\n",
    "            return None\n",
    "    print(\"> direct: {} ({})\".format(movie['title'], movie['id']))\n",
    "    return link"
   ]
  },
  {
   "cell_type": "code",
   "execution_count": 286,
   "metadata": {
    "collapsed": false,
    "scrolled": false
   },
   "outputs": [
    {
     "name": "stdout",
     "output_type": "stream",
     "text": [
      "771416410 http://images.rottentomatoescdn.com/images/redesign/poster_default.gif\n",
      "download/posters/771416410.jpg\n",
      "> tmdb: Risen (771416410)\n",
      "{'status_message': 'The resource you requested could not be found.', 'status_code': 34}\n",
      "771254328 None\n",
      "download/posters/771254328.jpg\n",
      "> extracted: Point Break (771254328)\n",
      "771402390 http://content9.flixster.com/movie/11/19/73/11197391_ori.jpg\n",
      "download/posters/771402390.jpg\n",
      "> extracted: The Lady In The Van (771402390)\n",
      "770785949 http://content9.flixster.com/movie/11/27/63/11276341_ori.jpg\n",
      "download/posters/770785949.jpg\n",
      "> extracted: Hail, Caesar! (770785949)\n",
      "771420359 http://content9.flixster.com/movie/11/43/44/11434453_ori.jpg\n",
      "download/posters/771420359.jpg\n",
      "> extracted: Spotlight (771420359)\n",
      "771385342 http://content9.flixster.com/movie/11/20/15/11201558_ori.jpg\n",
      "download/posters/771385342.jpg\n",
      "> direct: Jungle Shuffle (771385342)\n",
      "771306118 http://d3biamo577v4eu.cloudfront.net/static/images/redesign/poster_default_thumb.gif\n",
      "download/posters/771306118.jpg\n",
      "> tmdb: Inside Out (771306118)\n",
      "{'status_message': 'The resource you requested could not be found.', 'status_code': 34}\n",
      "771421437 None\n",
      "download/posters/771421437.jpg\n",
      "> extracted: 13 Hours: The Secret Soldiers Of Benghazi (771421437)\n",
      "771324987 http://content9.flixster.com/movie/11/42/09/11420915_ori.jpg\n",
      "download/posters/771324987.jpg\n",
      "> extracted: Concussion (771324987)\n",
      "771417802 http://content9.flixster.com/movie/11/17/39/11173920_ori.jpg\n",
      "download/posters/771417802.jpg\n",
      "> extracted: Freeheld (771417802)\n",
      "771425866 http://content9.flixster.com/movie/11/20/27/11202741_ori.jpg\n",
      "download/posters/771425866.jpg\n",
      "> extracted: Where to Invade Next (771425866)\n",
      "771390242 http://content9.flixster.com/movie/11/56/88/11568885_ori.jpg\n",
      "download/posters/771390242.jpg\n",
      "> extracted: Deadpool (771390242)\n",
      "771422075 http://content9.flixster.com/movie/11/42/09/11420914_ori.jpg\n",
      "download/posters/771422075.jpg\n",
      "> direct: The Iron Giant: Signature Edition (771422075)\n",
      "771388387 http://d3biamo577v4eu.cloudfront.net/static/images/redesign/poster_default_thumb.gif\n",
      "download/posters/771388387.jpg\n",
      "> extracted: Dirty Grandpa (771388387)\n",
      "771321699 http://content9.flixster.com/movie/11/35/34/11353466_ori.jpg\n",
      "download/posters/771321699.jpg\n",
      "> tmdb: Star Wars: Episode VII - The Force Awakens (771321699)\n",
      "{'status_message': 'The resource you requested could not be found.', 'status_code': 34}\n",
      "771419018 None\n",
      "download/posters/771419018.jpg\n",
      "> extracted: Son of Saul (771419018)\n",
      "771306093 http://content9.flixster.com/movie/11/34/44/11344424_ori.jpg\n",
      "download/posters/771306093.jpg\n",
      "> extracted: The Good Dinosaur (771306093)\n",
      "771312089 http://content9.flixster.com/movie/11/20/70/11207072_ori.jpg\n",
      "download/posters/771312089.jpg\n",
      "> extracted: The Hunger Games: Mockingjay - Part 2 (771312089)\n",
      "771367711 http://content9.flixster.com/movie/11/20/29/11202951_ori.jpg\n",
      "download/posters/771367711.jpg\n",
      "> extracted: Alvin and the Chipmunks: The Road Chip (771367711)\n",
      "771380985 http://content9.flixster.com/movie/11/20/27/11202773_ori.jpg\n",
      "download/posters/771380985.jpg\n",
      "> extracted: The Forest (771380985)\n",
      "771418294 http://content9.flixster.com/movie/11/42/09/11420912_ori.jpg\n",
      "download/posters/771418294.jpg\n",
      "> tmdb: Dough (771418294)\n",
      "{'status_message': 'The resource you requested could not be found.', 'status_code': 34}\n",
      "771366740 None\n",
      "download/posters/771366740.jpg\n",
      "> direct: Son Of God (771366740)\n",
      "771355515 http://content7.flixster.com/movie/11/17/49/11174993_ori.jpg\n",
      "download/posters/771355515.jpg\n",
      "> direct: Welcome to Yesterday (771355515)\n",
      "771377488 http://content6.flixster.com/movie/11/17/54/11175480_ori.jpg\n",
      "download/posters/771377488.jpg\n",
      "> extracted: The Big Short (771377488)\n",
      "771315831 http://content9.flixster.com/movie/11/20/70/11207068_ori.jpg\n",
      "download/posters/771315831.jpg\n",
      "> extracted: Kung Fu Panda 3 (771315831)\n",
      "771413507 http://content9.flixster.com/movie/11/48/82/11488237_ori.jpg\n",
      "download/posters/771413507.jpg\n",
      "> extracted: Creed (771413507)\n",
      "771242147 http://content9.flixster.com/movie/11/22/60/11226026_ori.jpg\n",
      "download/posters/771242147.jpg\n",
      "> direct: Pompeii (771242147)\n",
      "771419529 http://content8.flixster.com/movie/11/17/57/11175758_ori.jpg\n",
      "download/posters/771419529.jpg\n",
      "> extracted: Youth (771419529)\n",
      "771413301 http://content9.flixster.com/movie/11/20/16/11201613_ori.jpg\n",
      "download/posters/771413301.jpg\n",
      "> extracted: Mavis! (771413301)\n",
      "771412296 http://content9.flixster.com/movie/11/19/10/11191034_ori.jpg\n",
      "download/posters/771412296.jpg\n",
      "> extracted: The Witch (771412296)\n",
      "771385239 http://content9.flixster.com/movie/11/34/89/11348952_ori.jpg\n",
      "download/posters/771385239.jpg\n",
      "> extracted: The 5th Wave (771385239)\n",
      "771313084 http://content9.flixster.com/movie/11/42/09/11420916_ori.jpg\n",
      "download/posters/771313084.jpg\n",
      "> direct: In Secret (771313084)\n",
      "771375846 http://content8.flixster.com/movie/11/17/56/11175650_ori.jpg\n",
      "download/posters/771375846.jpg\n",
      "> extracted: How To Be Single (771375846)\n",
      "290370817 http://content9.flixster.com/movie/11/34/89/11348954_ori.jpg\n",
      "download/posters/290370817.jpg\n",
      "> tmdb: Dad's Army (290370817)\n",
      "{'id': 66963, 'posters': [{'vote_count': 0, 'vote_average': 0.0, 'height': 1100, 'width': 815, 'iso_639_1': None, 'file_path': '/nTR61EVX2gYfzGRJ6k49dg7VlFv.jpg', 'aspect_ratio': 0.740909090909091}, {'vote_count': 0, 'vote_average': 0.0, 'height': 934, 'width': 700, 'iso_639_1': None, 'file_path': '/2THunaF9OoktQjpyaSjOJueG8fS.jpg', 'aspect_ratio': 0.749464668094218}], 'backdrops': [{'vote_count': 0, 'vote_average': 0.0, 'height': 768, 'width': 1366, 'iso_639_1': None, 'file_path': '/sEOQvYXnlsBWlebHxzktXx4iws7.jpg', 'aspect_ratio': 1.77864583333333}]}\n",
      "771420473 None\n",
      "download/posters/771420473.jpg\n",
      "> extracted: Chronic (771420473)\n",
      "771414396 http://content9.flixster.com/movie/11/20/26/11202667_ori.jpg\n",
      "download/posters/771414396.jpg\n",
      "> extracted: The Boy (771414396)\n",
      "771376964 http://content9.flixster.com/movie/11/42/09/11420910_ori.jpg\n",
      "download/posters/771376964.jpg\n",
      "> extracted: Ride Along 2 (771376964)\n",
      "771422480 http://content9.flixster.com/movie/11/20/13/11201313_ori.jpg\n",
      "download/posters/771422480.jpg\n",
      "> extracted: Room (771422480)\n",
      "771405216 http://content9.flixster.com/movie/11/20/02/11200274_ori.jpg\n",
      "download/posters/771405216.jpg\n",
      "> extracted: The Choice (771405216)\n",
      "771423863 http://content9.flixster.com/movie/11/27/63/11276344_ori.jpg\n",
      "download/posters/771423863.jpg\n",
      "> extracted: Anomalisa (771423863)\n",
      "771363113 http://content9.flixster.com/movie/11/34/89/11348949_ori.jpg\n",
      "download/posters/771363113.jpg\n",
      "> direct: Repentance (771363113)\n",
      "771357524 http://content8.flixster.com/movie/11/17/50/11175038_ori.jpg\n",
      "download/posters/771357524.jpg\n",
      "> extracted: The Finest Hours (771357524)\n",
      "771415103 http://content9.flixster.com/movie/11/48/82/11488235_ori.jpg\n",
      "download/posters/771415103.jpg\n",
      "> extracted: Zoolander 2 (771415103)\n",
      "771381879 http://content9.flixster.com/movie/11/43/89/11438977_ori.jpg\n",
      "download/posters/771381879.jpg\n",
      "> extracted: Joy (771381879)\n",
      "771363413 http://content9.flixster.com/movie/11/19/18/11191888_ori.jpg\n",
      "download/posters/771363413.jpg\n",
      "> direct: The Wind Rises (771363413)\n",
      "771409328 http://content7.flixster.com/movie/11/17/49/11174921_ori.jpg\n",
      "download/posters/771409328.jpg\n",
      "> extracted: Carol (771409328)\n",
      "771427013 http://content9.flixster.com/movie/11/25/37/11253788_ori.jpg\n",
      "download/posters/771427013.jpg\n",
      "> extracted: A Bigger Splash (771427013)\n",
      "771370659 http://content9.flixster.com/movie/11/20/35/11203578_ori.jpg\n",
      "download/posters/771370659.jpg\n",
      "> direct: Stalingrad (771370659)\n",
      "771370504 http://content7.flixster.com/movie/11/17/61/11176121_ori.jpg\n",
      "download/posters/771370504.jpg\n",
      "> extracted: Brooklyn (771370504)\n",
      "771375521 http://content9.flixster.com/movie/11/20/19/11201971_ori.jpg\n",
      "download/posters/771375521.jpg\n",
      "> extracted: 45 Years (771375521)\n",
      "771321495 http://content9.flixster.com/movie/11/33/99/11339915_ori.jpg\n",
      "download/posters/771321495.jpg\n",
      "> extracted: Hotel Transylvania 2 (771321495)\n",
      "771029672 http://content9.flixster.com/movie/11/19/15/11191564_ori.jpg\n",
      "download/posters/771029672.jpg\n",
      "> extracted: Pride and Prejudice and Zombies (771029672)\n",
      "771436735 http://content9.flixster.com/movie/11/45/25/11452529_ori.jpg\n",
      "download/posters/771436735.jpg\n",
      "> extracted: The Monkey King 2 3D (San Da Bai Gu Jing) (771436735)\n",
      "771355882 http://content9.flixster.com/movie/11/54/37/11543774_ori.jpg\n",
      "download/posters/771355882.jpg\n",
      "> direct: Omar (771355882)\n",
      "771304322 http://content7.flixster.com/movie/11/17/50/11175053_ori.jpg\n",
      "download/posters/771304322.jpg\n",
      "> direct: Non-Stop (771304322)\n",
      "771379020 http://content9.flixster.com/movie/11/17/55/11175511_ori.jpg\n",
      "download/posters/771379020.jpg\n",
      "> extracted: The Revenant (771379020)\n",
      "771413218 http://content9.flixster.com/movie/11/20/35/11203523_ori.jpg\n",
      "download/posters/771413218.jpg\n",
      "771428953 None\n",
      "download/posters/771428953.jpg\n",
      "771318152 None\n",
      "download/posters/771318152.jpg\n",
      "> extracted: The Peanuts Movie (771318152)\n",
      "771371542 http://content9.flixster.com/movie/11/19/14/11191451_ori.jpg\n",
      "download/posters/771371542.jpg\n",
      "> extracted: Daddy's Home (771371542)\n",
      "771356120 http://content9.flixster.com/movie/11/34/44/11344427_ori.jpg\n",
      "download/posters/771356120.jpg\n",
      "> direct: Child's Pose (771356120)\n",
      "771360513 http://content9.flixster.com/movie/11/17/56/11175659_ori.jpg\n",
      "download/posters/771360513.jpg\n",
      "> extracted: Spectre (771360513)\n",
      "771379547 http://content9.flixster.com/movie/11/20/33/11203374_ori.jpg\n",
      "download/posters/771379547.jpg\n",
      "> extracted: Jem and the Holograms (771379547)\n",
      "771420263 http://content9.flixster.com/movie/11/19/95/11199536_ori.jpg\n",
      "download/posters/771420263.jpg\n",
      "> tmdb: Rams (Hrutar) (771420263)\n",
      "{'status_message': 'The resource you requested could not be found.', 'status_code': 34}\n",
      "771414603 None\n",
      "download/posters/771414603.jpg\n",
      "> extracted: The Danish Girl (771414603)\n",
      "771374538 http://content9.flixster.com/movie/11/20/17/11201744_ori.jpg\n",
      "download/posters/771374538.jpg\n",
      "> tmdb: Race (771374538)\n",
      "{'status_message': 'The resource you requested could not be found.', 'status_code': 34}\n",
      "771387295 None\n",
      "download/posters/771387295.jpg\n",
      "> extracted: Bone Tomahawk (771387295)\n",
      "771372896 http://content9.flixster.com/movie/11/20/24/11202440_ori.jpg\n",
      "download/posters/771372896.jpg\n",
      "> extracted: The Hateful Eight (771372896)\n",
      "771420177 http://content9.flixster.com/movie/11/28/53/11285354_ori.jpg\n",
      "download/posters/771420177.jpg\n",
      "> extracted: Fifty Shades of Black (771420177)\n",
      "770807799 http://content9.flixster.com/movie/11/35/34/11353467_ori.jpg\n",
      "download/posters/770807799.jpg\n",
      "> extracted: Goosebumps (770807799)\n",
      "771256395 http://content9.flixster.com/movie/11/39/57/11395748_ori.jpg\n",
      "download/posters/771256395.jpg\n",
      "> extracted: Sisters (771256395)\n",
      "771355933 http://content9.flixster.com/movie/11/20/34/11203418_ori.jpg\n",
      "download/posters/771355933.jpg\n",
      "> direct: The Lunchbox (771355933)\n",
      "771387248 http://images.rottentomatoescdn.com/images/redesign/poster_default.gif\n",
      "download/posters/771387248.jpg\n",
      "> extracted: Maya The Bee Movie (771387248)\n",
      "771415583 http://content9.flixster.com/movie/11/19/08/11190838_ori.jpg\n",
      "download/posters/771415583.jpg\n",
      "> extracted: Trumbo (771415583)\n",
      "771374779 http://content9.flixster.com/movie/11/19/18/11191857_ori.jpg\n",
      "download/posters/771374779.jpg\n",
      "> extracted: Triple 9 (771374779)\n",
      "771432070 http://content9.flixster.com/movie/11/20/30/11203074_ori.jpg\n",
      "download/posters/771432070.jpg\n",
      "> extracted: Touched With Fire (771432070)\n",
      "771355591 http://content9.flixster.com/movie/11/30/72/11307247_ori.jpg\n",
      "download/posters/771355591.jpg\n",
      "> extracted: Norm of the North (771355591)\n",
      "771435588 http://content9.flixster.com/movie/11/34/44/11344425_ori.jpg\n",
      "download/posters/771435588.jpg\n",
      "> extracted: Neerja (771435588)\n"
     ]
    }
   ],
   "source": [
    "notFound = []\n",
    "\n",
    "for m in movie_dict.values():\n",
    "    print(m['id'], url)\n",
    "    if os.path.exists(posterPath(m['id'])):\n",
    "        continue\n",
    "    print (posterPath(m['id']))\n",
    "    url = getPosterURL(m)    \n",
    "    if url:\n",
    "        response = requests.get(url)\n",
    "        if response.status_code == 200:\n",
    "            with open(posterPath(m['id']), 'wb') as f:\n",
    "                f.write(response.content)\n",
    "        elif response.status_code == 404:\n",
    "            print(\">> Not found:\", m['id'], url)\n",
    "            notFound.append(m['id'])\n",
    "        else:\n",
    "            print(\">> Error:\", response.status_code, m['id'], url)\n",
    "        time.sleep(0.1)  # respect our API limits!"
   ]
  },
  {
   "cell_type": "markdown",
   "metadata": {},
   "source": [
    "Filter out movies with no poster:"
   ]
  },
  {
   "cell_type": "code",
   "execution_count": 379,
   "metadata": {
    "collapsed": false
   },
   "outputs": [
    {
     "name": "stdout",
     "output_type": "stream",
     "text": [
      "Before: 78\n",
      "After: 66\n"
     ]
    }
   ],
   "source": [
    "print(\"Before:\", len(movie_dict))\n",
    "for rt_id in set(movie_dict.keys()):\n",
    "    if not os.path.exists(posterPath(rt_id)):\n",
    "        del movie_dict[rt_id]\n",
    "print(\"After:\", len(movie_dict))"
   ]
  },
  {
   "cell_type": "markdown",
   "metadata": {},
   "source": [
    "## Generate Thumbnail Sprites"
   ]
  },
  {
   "cell_type": "code",
   "execution_count": 380,
   "metadata": {
    "collapsed": true
   },
   "outputs": [],
   "source": [
    "import PIL\n",
    "import thumbnails"
   ]
  },
  {
   "cell_type": "code",
   "execution_count": 381,
   "metadata": {
    "collapsed": true
   },
   "outputs": [],
   "source": [
    "THUMB_SIZE = (200, 300)\n",
    "MAX_SPRITE_SIZE = 5\n",
    "SPRITE_SIZE = (THUMB_SIZE[0] * MAX_SPRITE_SIZE, THUMB_SIZE[1] * MAX_SPRITE_SIZE)"
   ]
  },
  {
   "cell_type": "code",
   "execution_count": 382,
   "metadata": {
    "collapsed": false
   },
   "outputs": [],
   "source": [
    "thumb_indices = {}  # Each index is a 3-tuple: file_number, row, column\n",
    "sprites = []\n",
    "\n",
    "for i, movie in enumerate(movie_dict.values()):\n",
    "    f = int(i / MAX_SPRITE_SIZE ** 2)\n",
    "    j = int(i % MAX_SPRITE_SIZE ** 2)\n",
    "    row = int(j / MAX_SPRITE_SIZE)\n",
    "    col = int(j % MAX_SPRITE_SIZE)\n",
    "    \n",
    "    if len(sprites) == f:\n",
    "        sprites.append(PIL.Image.new(mode='RGB', size=SPRITE_SIZE))\n",
    "    \n",
    "    path = os.path.abspath(posterPath(movie['id']))\n",
    "    thumb = thumbnails.get_thumbnail(path, \"{}x{}\".format(*THUMB_SIZE), crop='center')\n",
    "    sprites[-1].paste(thumb.image, (col * THUMB_SIZE[0], row * THUMB_SIZE[1]))\n",
    "    \n",
    "    thumb_indices[movie['id']] = (f, row, col)"
   ]
  },
  {
   "cell_type": "code",
   "execution_count": 387,
   "metadata": {
    "collapsed": true
   },
   "outputs": [],
   "source": [
    "SPRITE_DIR = 'thumb_sprites'\n",
    "\n",
    "for i, s in enumerate(sprites):\n",
    "    s.save(os.path.join(SPRITE_DIR, \"sprite-{}.jpg\".format(i)))\n",
    "    \n",
    "spriteInfo = {\n",
    "    'thumb_size': THUMB_SIZE,\n",
    "    'thumb_indices': thumb_indices,\n",
    "    'n_sheets': len(sprites)\n",
    "}\n",
    "\n",
    "with open(os.path.join(SPRITE_DIR, \"sprites.json\"), 'w') as f:\n",
    "    json.dump(spriteInfo, f)"
   ]
  },
  {
   "cell_type": "code",
   "execution_count": null,
   "metadata": {
    "collapsed": true
   },
   "outputs": [],
   "source": []
  }
 ],
 "metadata": {
  "kernelspec": {
   "display_name": "Python 3",
   "language": "python",
   "name": "python3"
  },
  "language_info": {
   "codemirror_mode": {
    "name": "ipython",
    "version": 3
   },
   "file_extension": ".py",
   "mimetype": "text/x-python",
   "name": "python",
   "nbconvert_exporter": "python",
   "pygments_lexer": "ipython3",
   "version": "3.5.1"
  }
 },
 "nbformat": 4,
 "nbformat_minor": 0
}
